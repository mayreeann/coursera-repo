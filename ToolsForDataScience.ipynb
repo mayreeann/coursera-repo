{
 "cells": [
  {
   "cell_type": "markdown",
   "id": "7a70e0ef-4d9d-4172-af3e-bf78fb3e7b56",
   "metadata": {},
   "source": [
    "# My Jupyter Notebook on IBM Watson Studio"
   ]
  },
  {
   "cell_type": "markdown",
   "id": "822f6c5e-6733-4bf1-ab04-d286e2943300",
   "metadata": {},
   "source": [
    "**Amaefula Maryann**\n",
    "\n",
    "Data Scientist in Training"
   ]
  },
  {
   "cell_type": "markdown",
   "id": "36dcf3d9-1911-4065-ae13-8e5016565b1c",
   "metadata": {},
   "source": [
    "*I am interested in data science because i want to be able to use data to add value.*\n",
    "\n",
    "*I am curious as to how data in rows and columns can be analyzed and used to generate business insights and make informed decisions.*"
   ]
  },
  {
   "cell_type": "markdown",
   "id": "40c07c70-7c9f-4ec3-bd1f-0b707a0af653",
   "metadata": {},
   "source": [
    "### The code in the next cell outputs a floor division of two integers"
   ]
  },
  {
   "cell_type": "code",
   "execution_count": 1,
   "id": "bd60b76c-cfcf-44c3-b6a1-f1f5009c5c92",
   "metadata": {},
   "outputs": [
    {
     "data": {
      "text/plain": [
       "4"
      ]
     },
     "execution_count": 1,
     "metadata": {},
     "output_type": "execute_result"
    }
   ],
   "source": [
    "a = 9\n",
    "b = 2\n",
    "9//2"
   ]
  },
  {
   "cell_type": "markdown",
   "id": "db4b16e0-0881-49bd-b24d-cf1299b9370b",
   "metadata": {},
   "source": [
    "#### This markdown cell contains a table, a hyperlink to GitHub, an image and a horizontal line\n",
    "|Product|Price|Quantity_sold|\n",
    "|-------|-----|-------------|\n",
    "|Bags|12.00|10|\n",
    "|Wrist Watch|20.00|6|\n",
    "|Laptop|256.00|5|\n",
    "\n",
    "<a href = \"https://github.com/\"> GitHub </a>\n",
    "\n",
    "![alt text](Microsoft.png \"Microsoft logo\")\n",
    "\n",
    "*******"
   ]
  },
  {
   "cell_type": "code",
   "execution_count": null,
   "id": "4d5942ba-d65b-4178-b20e-27eb175e429f",
   "metadata": {},
   "outputs": [],
   "source": []
  }
 ],
 "metadata": {
  "kernelspec": {
   "display_name": "Python",
   "language": "python",
   "name": "conda-env-python-py"
  },
  "language_info": {
   "codemirror_mode": {
    "name": "ipython",
    "version": 3
   },
   "file_extension": ".py",
   "mimetype": "text/x-python",
   "name": "python",
   "nbconvert_exporter": "python",
   "pygments_lexer": "ipython3",
   "version": "3.7.12"
  }
 },
 "nbformat": 4,
 "nbformat_minor": 5
}

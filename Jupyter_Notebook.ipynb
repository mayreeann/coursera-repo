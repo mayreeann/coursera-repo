{
 "cells": [
  {
   "cell_type": "markdown",
   "metadata": {},
   "source": [
    "<center>\n",
    "    <img src=\"https://s3-api.us-geo.objectstorage.softlayer.net/cf-courses-data/CognitiveClass/Logos/organization_logo/organization_logo.png\" width=\"300\" alt=\"cognitiveclass.ai logo\"  />\n",
    "</center>\n"
   ]
  },
  {
   "cell_type": "markdown",
   "metadata": {},
   "source": [
    "#### Add your code below following the instructions given in the course\n"
   ]
  },
  {
   "cell_type": "markdown",
   "metadata": {},
   "source": [
    "# My Jupyter Notebook on IBM Watson Studio"
   ]
  },
  {
   "cell_type": "markdown",
   "metadata": {},
   "source": [
    "**Amaefula Maryann**\n",
    "\n",
    "Data Scientist in Training"
   ]
  },
  {
   "cell_type": "markdown",
   "metadata": {},
   "source": [
    "*I am interested in data science because i want to be able to use data to add value.*\n",
    "\n",
    "*I am curious as to how data in rows and columns can be analyzed and used to generate business insights and make informed decisions.*"
   ]
  },
  {
   "cell_type": "markdown",
   "metadata": {},
   "source": [
    "### The code in the next cell outputs a floor division of two integers"
   ]
  },
  {
   "cell_type": "code",
   "execution_count": 1,
   "metadata": {},
   "outputs": [
    {
     "data": {
      "text/plain": [
       "4"
      ]
     },
     "execution_count": 1,
     "metadata": {},
     "output_type": "execute_result"
    }
   ],
   "source": [
    "a = 9\n",
    "b = 2\n",
    "9//2"
   ]
  },
  {
   "cell_type": "markdown",
   "metadata": {},
   "source": [
    "#### This markdown cell contains a table, a hyperlink to GitHub, an image and a horizontal line\n",
    "|Product|Price|Quantity_sold|\n",
    "|-------|-----|-------------|\n",
    "|Bags|12.00|10|\n",
    "|Wrist Watch|20.00|6|\n",
    "|Laptop|256.00|5|\n",
    "\n",
    "<a href = \"https://github.com/\"> GitHub </a>\n",
    "\n",
    "![alt text](Microsoft.png \"Microsoft logo\")\n",
    "\n",
    "*******"
   ]
  },
  {
   "cell_type": "code",
   "execution_count": null,
   "metadata": {},
   "outputs": [],
   "source": []
  }
 ],
 "metadata": {
  "kernelspec": {
   "display_name": "Python 3",
   "language": "python",
   "name": "python3"
  },
  "language_info": {
   "codemirror_mode": {
    "name": "ipython",
    "version": 3
   },
   "file_extension": ".py",
   "mimetype": "text/x-python",
   "name": "python",
   "nbconvert_exporter": "python",
   "pygments_lexer": "ipython3",
   "version": "3.7.3"
  }
 },
 "nbformat": 4,
 "nbformat_minor": 4
}
